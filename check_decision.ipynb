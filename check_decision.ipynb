{
 "cells": [
  {
   "cell_type": "code",
   "execution_count": null,
   "id": "23a139f2",
   "metadata": {
    "vscode": {
     "languageId": "plaintext"
    }
   },
   "outputs": [],
   "source": [
    "from read_bothdecision import *\n",
    "\n",
    "\n",
    "decision_df = load_decision_data()\n",
    "network_dict = load_network_files('lee_county_monthly')\n",
    "pdb.set_trace()\n",
    "result_df = analyze_diffusion(decision_df, network_dict, month_window=3)\n",
    "\n",
    "result_df.to_csv('results/household_diffusion_analysis.csv', index=False)\n",
    "print(result_df.head())\n",
    "print(\"Total number of neighbor diffusion events found:\", len(result_df))\n"
   ]
  }
 ],
 "metadata": {
  "language_info": {
   "name": "python"
  }
 },
 "nbformat": 4,
 "nbformat_minor": 5
}
