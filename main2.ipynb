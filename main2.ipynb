{
 "cells": [
  {
   "cell_type": "code",
   "execution_count": null,
   "id": "ae7c8a19",
   "metadata": {},
   "outputs": [
    {
     "name": "stdout",
     "output_type": "stream",
     "text": [
      "Requirement already satisfied: python-geohash in /srv/conda/envs/notebook/lib/python3.9/site-packages (0.8.5)\n",
      "Requirement already satisfied: pygeohash in /srv/conda/envs/notebook/lib/python3.9/site-packages (3.2.0)\n",
      "Requirement already satisfied: fastdtw in /srv/conda/envs/notebook/lib/python3.9/site-packages (0.3.4)\n",
      "Requirement already satisfied: numpy in /srv/conda/envs/notebook/lib/python3.9/site-packages (from fastdtw) (1.23.5)\n",
      "Requirement already satisfied: numba in /srv/conda/envs/notebook/lib/python3.9/site-packages (0.60.0)\n",
      "Requirement already satisfied: llvmlite<0.44,>=0.43.0dev0 in /srv/conda/envs/notebook/lib/python3.9/site-packages (from numba) (0.43.0)\n",
      "Requirement already satisfied: numpy<2.1,>=1.22 in /srv/conda/envs/notebook/lib/python3.9/site-packages (from numba) (1.23.5)\n",
      "Requirement already satisfied: statsmodels in /srv/conda/envs/notebook/lib/python3.9/site-packages (0.14.5)\n",
      "Requirement already satisfied: numpy<3,>=1.22.3 in /srv/conda/envs/notebook/lib/python3.9/site-packages (from statsmodels) (1.23.5)\n",
      "Requirement already satisfied: scipy!=1.9.2,>=1.8 in /srv/conda/envs/notebook/lib/python3.9/site-packages (from statsmodels) (1.9.3)\n",
      "Requirement already satisfied: pandas!=2.1.0,>=1.4 in /srv/conda/envs/notebook/lib/python3.9/site-packages (from statsmodels) (1.5.2)\n",
      "Requirement already satisfied: patsy>=0.5.6 in /srv/conda/envs/notebook/lib/python3.9/site-packages (from statsmodels) (1.0.1)\n",
      "Requirement already satisfied: packaging>=21.3 in /srv/conda/envs/notebook/lib/python3.9/site-packages (from statsmodels) (21.3)\n",
      "Requirement already satisfied: pyparsing!=3.0.5,>=2.0.2 in /srv/conda/envs/notebook/lib/python3.9/site-packages (from packaging>=21.3->statsmodels) (3.0.9)\n",
      "Requirement already satisfied: python-dateutil>=2.8.1 in /srv/conda/envs/notebook/lib/python3.9/site-packages (from pandas!=2.1.0,>=1.4->statsmodels) (2.8.2)\n",
      "Requirement already satisfied: pytz>=2020.1 in /srv/conda/envs/notebook/lib/python3.9/site-packages (from pandas!=2.1.0,>=1.4->statsmodels) (2022.4)\n",
      "Requirement already satisfied: six>=1.5 in /srv/conda/envs/notebook/lib/python3.9/site-packages (from python-dateutil>=2.8.1->pandas!=2.1.0,>=1.4->statsmodels) (1.16.0)\n",
      "Requirement already satisfied: pyarrow in /srv/conda/envs/notebook/lib/python3.9/site-packages (20.0.0)\n"
     ]
    }
   ],
   "source": [
    "!pip install python-geohash\n",
    "!pip install pygeohash\n",
    "!pip install fastdtw\n",
    "!pip install numba\n",
    "!pip install statsmodels\n",
    "!pip install pyarrow"
   ]
  },
  {
   "cell_type": "code",
   "execution_count": 23,
   "id": "f7556762-6e99-4b1b-a93e-83c2ab303847",
   "metadata": {},
   "outputs": [
    {
     "name": "stdout",
     "output_type": "stream",
     "text": [
      "Requirement already satisfied: pip in /srv/conda/envs/notebook/lib/python3.9/site-packages (25.2)\n",
      "Requirement already satisfied: setuptools in /srv/conda/envs/notebook/lib/python3.9/site-packages (80.9.0)\n",
      "Requirement already satisfied: wheel in /srv/conda/envs/notebook/lib/python3.9/site-packages (0.45.1)\n",
      "Requirement already satisfied: pyarrow in /srv/conda/envs/notebook/lib/python3.9/site-packages (20.0.0)\n"
     ]
    }
   ],
   "source": [
    "!pip install --upgrade pip setuptools wheel\n",
    "!pip install --upgrade pyarrow --only-binary :all:"
   ]
  },
  {
   "cell_type": "code",
   "execution_count": 47,
   "id": "d1f88ec2",
   "metadata": {},
   "outputs": [],
   "source": [
    "\n",
    "import imp\n",
    "import pdb\n",
    "from datetime import datetime\n",
    "import pandas as pd\n",
    "\n",
    "# Import our dependency\n",
    "from read_data import *\n",
    "from social_group import *\n",
    "from dtw_fun import *\n",
    "from network_filtering import *\n",
    "from group_network import *\n",
    "import warnings\n",
    "warnings.filterwarnings(\"ignore\")\n",
    "\n",
    "# Data path\n",
    "base_path = 'lee_county_monthly/lee_county_202307.csv'\n",
    "\n",
    "# Define the starting month of the whole project. 2022-08-01 to 2023-07-31\n",
    "# original_date=datetime(2022, 8, 1)\n",
    "\n",
    "# Define the pre disaster date range\n",
    "start_date = datetime(2023, 7, 1)\n",
    "\n",
    "# 1. Filter Holiday records from 2019-12-24 18:00 to 22:00\n",
    "start_time = pd.Timestamp(\"2022-12-24 18:00:00\")\n",
    "end_time   = pd.Timestamp(\"2022-12-24 22:00:00\")\n",
    "\n",
    "# Select the location you want\n",
    "# somewhere in Maryland, Florida, NYC, Longisland, A small county in the middle of Long Island, Region around Brookhaven and Mastic Beach\n",
    "selected_region = 'Lee_county'  \n"
   ]
  },
  {
   "cell_type": "code",
   "execution_count": 48,
   "id": "42894ada",
   "metadata": {},
   "outputs": [
    {
     "name": "stdout",
     "output_type": "stream",
     "text": [
      "Original DataFrame shape: (39169, 9)\n"
     ]
    }
   ],
   "source": [
    "'''\n",
    "1. Read Data\n",
    "'''\n",
    "# read_save_all_data(start_date, end_date, base_path)\n",
    "\n",
    "filtered_df, min_lat, max_lat, min_lon, max_lon=read_region_data(selected_region, base_path)\n",
    "\n",
    "\n",
    "'''\n",
    "2. Filter local resident and residents with minimmun appearance in month\n",
    "'''\n",
    "\n",
    "linked_df = apply_residency_filter_appear(filtered_df, min_appearances=20)\n",
    "\n",
    "\n"
   ]
  },
  {
   "cell_type": "code",
   "execution_count": 49,
   "id": "c2ce1e01-559f-4919-ab28-d8318508e63b",
   "metadata": {},
   "outputs": [
    {
     "name": "stdout",
     "output_type": "stream",
     "text": [
      "    device_id            utc_timestamp_1            utc_timestamp_2  \\\n",
      "0  7376980707  2023-07-01T07:12:58-04:00  2023-07-01T08:08:41-04:00   \n",
      "1  7376980707  2023-07-01T08:14:24-04:00  2023-07-01T08:24:19-04:00   \n",
      "2  7376980707  2023-07-01T08:28:00-04:00  2023-07-01T08:48:37-04:00   \n",
      "3  7376980707  2023-07-01T08:52:03-04:00  2023-07-01T09:09:59-04:00   \n",
      "4  7376980707  2023-07-01T09:12:01-04:00  2023-07-01T09:32:06-04:00   \n",
      "\n",
      "   latitude_1  longitude_1  geohash_1  latitude_2  longitude_2  geohash_2  \\\n",
      "0   26.514166   -81.936074  dhtwz6zbp   26.514374   -81.936425  dhtwz6z9q   \n",
      "1   26.514374   -81.936425  dhtwz6z9q   26.513977   -81.936210  dhtwz6xz5   \n",
      "2   26.513977   -81.936210  dhtwz6xz5   26.514008   -81.936737  dhtwz6xrr   \n",
      "3   26.514008   -81.936737  dhtwz6xrr   26.513916   -81.936423  dhtwz6xwy   \n",
      "4   26.513916   -81.936423  dhtwz6xwy   26.513977   -81.936420  dhtwz6xxp   \n",
      "\n",
      "                 unix_time_1  ...          timestamp_1          timestamp_2  \\\n",
      "0  2023-07-01T07:12:58-04:00  ...  07/01/2023 07:12:58  07/01/2023 08:08:41   \n",
      "1  2023-07-01T08:14:24-04:00  ...  07/01/2023 08:14:24  07/01/2023 08:24:19   \n",
      "2  2023-07-01T08:28:00-04:00  ...  07/01/2023 08:28:00  07/01/2023 08:48:37   \n",
      "3  2023-07-01T08:52:03-04:00  ...  07/01/2023 08:52:03  07/01/2023 09:09:59   \n",
      "4  2023-07-01T09:12:01-04:00  ...  07/01/2023 09:12:01  07/01/2023 09:32:06   \n",
      "\n",
      "  original_device_id          datetime_1      date_1 group_latitude  \\\n",
      "0         7376980707 2023-07-01 07:12:58  2023-07-01      26.496504   \n",
      "1         7376980707 2023-07-01 08:14:24  2023-07-01      26.496504   \n",
      "2         7376980707 2023-07-01 08:28:00  2023-07-01      26.496504   \n",
      "3         7376980707 2023-07-01 08:52:03  2023-07-01      26.496504   \n",
      "4         7376980707 2023-07-01 09:12:01  2023-07-01      26.496504   \n",
      "\n",
      "   group_longitude  group_geohash_8 group_latitude_8  group_longitude_8  \n",
      "0       -81.931836         dhtwxxe1        26.496534         -81.931744  \n",
      "1       -81.931836         dhtwxxe1        26.496534         -81.931744  \n",
      "2       -81.931836         dhtwxxe1        26.496534         -81.931744  \n",
      "3       -81.931836         dhtwxxe1        26.496534         -81.931744  \n",
      "4       -81.931836         dhtwxxe1        26.496534         -81.931744  \n",
      "\n",
      "[5 rows x 21 columns]\n",
      "Number of group count: 498\n"
     ]
    }
   ],
   "source": [
    "'''\n",
    "3. Identify Social Group\n",
    "'''\n",
    "user_group_df, result_df_with_group=user_group_links(start_date, linked_df)\n"
   ]
  },
  {
   "cell_type": "code",
   "execution_count": 50,
   "id": "17820546-10ed-4b39-b76c-40da32d483e7",
   "metadata": {},
   "outputs": [
    {
     "name": "stdout",
     "output_type": "stream",
     "text": [
      "Number of active users: 56744\n",
      "Fast-DTW running …\n"
     ]
    },
    {
     "name": "stderr",
     "output_type": "stream",
     "text": [
      "100%|██████████| 841/841 [00:01<00:00, 475.35it/s]\n"
     ]
    },
    {
     "name": "stdout",
     "output_type": "stream",
     "text": [
      "Threshold selected: 0.6284386515617371\n",
      "Number of candidate pairs predicted as social links: 169\n",
      "Records during holiday: 0\n",
      "Number of holiday bonding nodes area: 0\n",
      "Number of holiday bonding user pairs (edges): 0\n",
      "DTW Prediction details saved to Individual_social_network.csv\n"
     ]
    }
   ],
   "source": [
    "'''\n",
    "4. Identify Social Links using DTW\n",
    "'''\n",
    "df_dtw_results=dtw_compute(result_df_with_group,start_time, end_time, min_trj_len = 20)\n",
    "\n"
   ]
  },
  {
   "cell_type": "code",
   "execution_count": 51,
   "id": "88f6740a-5256-4361-8fc8-db65dba73f9d",
   "metadata": {},
   "outputs": [
    {
     "name": "stderr",
     "output_type": "stream",
     "text": [
      "Scanning groups: 100%|██████████| 16025/16025 [00:01<00:00, 10015.19it/s]\n"
     ]
    }
   ],
   "source": [
    "'''\n",
    "5. Network Filtering\n",
    "'''\n",
    "graph_df=filter_network_eadm(df_dtw_results, linked_df, start_date)"
   ]
  },
  {
   "cell_type": "code",
   "execution_count": 52,
   "id": "e0fb1954-fbe1-437b-b479-d09f48257308",
   "metadata": {},
   "outputs": [
    {
     "name": "stdout",
     "output_type": "stream",
     "text": [
      "Total individual links (predicted connected): 169\n",
      "Number of group candidate pairs: 158\n",
      "All Group 484\n",
      "Unique Device Id count: 498\n",
      "Group that have links: 156\n"
     ]
    }
   ],
   "source": [
    "'''\n",
    "6. Social Group Network\n",
    "'''\n",
    "group_network_df=build_group_network(graph_df, user_group_df, start_date)"
   ]
  },
  {
   "cell_type": "code",
   "execution_count": null,
   "id": "103df2e8-1c17-48bb-80ac-90dc476bc8e8",
   "metadata": {},
   "outputs": [],
   "source": []
  }
 ],
 "metadata": {
  "kernelspec": {
   "display_name": "Python 3 (ipykernel)",
   "language": "python",
   "name": "python3"
  },
  "language_info": {
   "codemirror_mode": {
    "name": "ipython",
    "version": 3
   },
   "file_extension": ".py",
   "mimetype": "text/x-python",
   "name": "python",
   "nbconvert_exporter": "python",
   "pygments_lexer": "ipython3",
   "version": "3.9.15"
  }
 },
 "nbformat": 4,
 "nbformat_minor": 5
}
