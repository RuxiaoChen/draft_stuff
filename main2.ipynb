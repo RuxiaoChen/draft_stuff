{
 "cells": [
  {
   "cell_type": "code",
   "execution_count": null,
   "id": "ae7c8a19",
   "metadata": {},
   "outputs": [],
   "source": [
    "# !pip install python-geohash\n",
    "# !pip install pygeohash\n",
    "# !pip install fastdtw"
   ]
  },
  {
   "cell_type": "code",
   "execution_count": null,
   "id": "d1f88ec2",
   "metadata": {},
   "outputs": [],
   "source": [
    "\n",
    "import imp\n",
    "import pdb\n",
    "from datetime import datetime\n",
    "import pandas as pd\n",
    "\n",
    "# Import our dependency\n",
    "from read_data import *\n",
    "from social_group import *\n",
    "from dtw_fun import *\n",
    "from network_filtering import *\n",
    "from group_network import *\n",
    "import warnings\n",
    "warnings.filterwarnings(\"ignore\")\n",
    "\n",
    "# Data path\n",
    "base_path = 'Lee_county/202208.csv'\n",
    "\n",
    "# Define the starting month of the whole project. 2022-08-01 to 2023-07-31\n",
    "# original_date=datetime(2022, 8, 1)\n",
    "\n",
    "# Define the pre disaster date range\n",
    "start_date = datetime(2020, 1, 1)\n",
    "end_date = datetime(2020, 2, 1)\n",
    "\n",
    "# 1. Filter Holiday records from 2019-12-24 18:00 to 22:00\n",
    "start_time = pd.Timestamp(\"2022-12-24 18:00:00\")\n",
    "end_time   = pd.Timestamp(\"2022-12-24 22:00:00\")\n",
    "\n",
    "# Select the location you want\n",
    "# somewhere in Maryland, Florida, NYC, Longisland, A small county in the middle of Long Island, Region around Brookhaven and Mastic Beach\n",
    "selected_region = 'maryland'  \n"
   ]
  },
  {
   "cell_type": "code",
   "execution_count": null,
   "id": "42894ada",
   "metadata": {},
   "outputs": [],
   "source": [
    "'''\n",
    "1. Read Data\n",
    "'''\n",
    "# read_save_all_data(start_date, end_date, base_path)\n",
    "\n",
    "filtered_df, min_lat, max_lat, min_lon, max_lon=read_region_data(selected_region, base_path)\n",
    "\n",
    "\n",
    "'''\n",
    "2. Filter local resident and residents with minimmun appearance in month\n",
    "'''\n",
    "\n",
    "linked_df = apply_residency_filter_appear(filtered_df, min_appearances=30)\n",
    "\n",
    "\n",
    "'''\n",
    "3. Identify Social Group\n",
    "'''\n",
    "user_group_df, result_df_with_group=user_group_links(start_date, linked_df)\n",
    "\n",
    "'''\n",
    "4. Identify Social Links using DTW\n",
    "'''\n",
    "df_dtw_results=dtw_compute(result_df_with_group,start_time, end_time)\n",
    "\n",
    "'''\n",
    "5. Network Filtering\n",
    "'''\n",
    "graph_df=filter_network_eadm(df_dtw_results, linked_df, start_date)\n",
    "\n",
    "\n",
    "'''\n",
    "6. Social Group Network\n",
    "'''\n",
    "group_network_df=build_group_network(graph_df, user_group_df, start_date)"
   ]
  }
 ],
 "metadata": {
  "kernelspec": {
   "display_name": "clima",
   "language": "python",
   "name": "python3"
  },
  "language_info": {
   "codemirror_mode": {
    "name": "ipython",
    "version": 3
   },
   "file_extension": ".py",
   "mimetype": "text/x-python",
   "name": "python",
   "nbconvert_exporter": "python",
   "pygments_lexer": "ipython3",
   "version": "3.11.13"
  }
 },
 "nbformat": 4,
 "nbformat_minor": 5
}
